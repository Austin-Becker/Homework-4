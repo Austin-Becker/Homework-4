{
 "cells": [
  {
   "cell_type": "markdown",
   "metadata": {},
   "source": [
    "# Unit 5 - Financial Planning"
   ]
  },
  {
   "cell_type": "code",
   "execution_count": 31,
   "metadata": {},
   "outputs": [],
   "source": [
    "# Initial imports\n",
    "import os\n",
    "import requests\n",
    "import pandas as pd\n",
    "from dotenv import load_dotenv\n",
    "import alpaca_trade_api as tradeapi\n",
    "from MCForecastTools import MCSimulation\n",
    "\n",
    "%matplotlib inline"
   ]
  },
  {
   "cell_type": "code",
   "execution_count": 32,
   "metadata": {},
   "outputs": [
    {
     "data": {
      "text/plain": [
       "True"
      ]
     },
     "execution_count": 32,
     "metadata": {},
     "output_type": "execute_result"
    }
   ],
   "source": [
    "# Load .env enviroment variables\n",
    "load_dotenv()"
   ]
  },
  {
   "cell_type": "markdown",
   "metadata": {},
   "source": [
    "## Part 1 - Personal Finance Planner"
   ]
  },
  {
   "cell_type": "markdown",
   "metadata": {},
   "source": [
    "### Collect Crypto Prices Using the `requests` Library"
   ]
  },
  {
   "cell_type": "code",
   "execution_count": 33,
   "metadata": {},
   "outputs": [],
   "source": [
    "# Set current amount of crypto assets\n",
    "my_btc = 1.2\n",
    "my_eth = 5.3\n"
   ]
  },
  {
   "cell_type": "code",
   "execution_count": 34,
   "metadata": {},
   "outputs": [],
   "source": [
    "# Crypto API URLs\n",
    "btc_url = \"https://api.alternative.me/v2/ticker/Bitcoin/?convert=USD\"\n",
    "eth_url = \"https://api.alternative.me/v2/ticker/Ethereum/?convert=USD\""
   ]
  },
  {
   "cell_type": "code",
   "execution_count": 39,
   "metadata": {},
   "outputs": [
    {
     "name": "stdout",
     "output_type": "stream",
     "text": [
      "The current value of your 1.2 BTC is $27692.40\n",
      "The current value of your 5.3 ETH is $8405.69\n"
     ]
    }
   ],
   "source": [
    "import json\n",
    "# Fetch current BTC price\n",
    "# YOUR CODE HERE!\n",
    "btc = requests.get(btc_url)\n",
    "btc_data = btc.json()\n",
    "btc_price = btc_data['data']['1']['quotes']['USD']['price']\n",
    "\n",
    "# Fetch current ETH price\n",
    "# YOUR CODE HERE!\n",
    "eth = requests.get(eth_url)\n",
    "eth_data = eth.json()\n",
    "eth_price = eth_data['data']['1027']['quotes']['USD']['price']\n",
    "\n",
    "# Compute current value of my crpto\n",
    "my_btc_value = my_btc * btc_price\n",
    "my_eth_value = my_eth * eth_price\n",
    "\n",
    "# Print current crypto wallet balance\n",
    "print(f\"The current value of your {my_btc} BTC is ${my_btc_value:0.2f}\")\n",
    "print(f\"The current value of your {my_eth} ETH is ${my_eth_value:0.2f}\")"
   ]
  },
  {
   "cell_type": "markdown",
   "metadata": {},
   "source": [
    "### Collect Investments Data Using Alpaca: `SPY` (stocks) and `AGG` (bonds)"
   ]
  },
  {
   "cell_type": "code",
   "execution_count": 40,
   "metadata": {},
   "outputs": [],
   "source": [
    "# Set current amount of shares\n",
    "my_agg = 200\n",
    "my_spy = 50"
   ]
  },
  {
   "cell_type": "code",
   "execution_count": 41,
   "metadata": {},
   "outputs": [],
   "source": [
    "# Set Alpaca API key and secret\n",
    "alpaca_api_key = os.getenv(\"ALPACA_API_KEY\")\n",
    "alpaca_secret_key = os.getenv(\"ALPACA_SECRET_KEY\")\n",
    "\n",
    "# Create the Alpaca API object\n",
    "alpaca = tradeapi.REST(\n",
    "    alpaca_api_key,\n",
    "    alpaca_secret_key,\n",
    "    api_version=\"v2\")\n"
   ]
  },
  {
   "cell_type": "code",
   "execution_count": 42,
   "metadata": {},
   "outputs": [
    {
     "data": {
      "text/html": [
       "<div>\n",
       "<style scoped>\n",
       "    .dataframe tbody tr th:only-of-type {\n",
       "        vertical-align: middle;\n",
       "    }\n",
       "\n",
       "    .dataframe tbody tr th {\n",
       "        vertical-align: top;\n",
       "    }\n",
       "\n",
       "    .dataframe thead tr th {\n",
       "        text-align: left;\n",
       "    }\n",
       "\n",
       "    .dataframe thead tr:last-of-type th {\n",
       "        text-align: right;\n",
       "    }\n",
       "</style>\n",
       "<table border=\"1\" class=\"dataframe\">\n",
       "  <thead>\n",
       "    <tr>\n",
       "      <th></th>\n",
       "      <th colspan=\"7\" halign=\"left\">AGG</th>\n",
       "      <th colspan=\"7\" halign=\"left\">SPY</th>\n",
       "    </tr>\n",
       "    <tr>\n",
       "      <th></th>\n",
       "      <th>open</th>\n",
       "      <th>high</th>\n",
       "      <th>low</th>\n",
       "      <th>close</th>\n",
       "      <th>volume</th>\n",
       "      <th>trade_count</th>\n",
       "      <th>vwap</th>\n",
       "      <th>open</th>\n",
       "      <th>high</th>\n",
       "      <th>low</th>\n",
       "      <th>close</th>\n",
       "      <th>volume</th>\n",
       "      <th>trade_count</th>\n",
       "      <th>vwap</th>\n",
       "    </tr>\n",
       "    <tr>\n",
       "      <th>timestamp</th>\n",
       "      <th></th>\n",
       "      <th></th>\n",
       "      <th></th>\n",
       "      <th></th>\n",
       "      <th></th>\n",
       "      <th></th>\n",
       "      <th></th>\n",
       "      <th></th>\n",
       "      <th></th>\n",
       "      <th></th>\n",
       "      <th></th>\n",
       "      <th></th>\n",
       "      <th></th>\n",
       "      <th></th>\n",
       "    </tr>\n",
       "  </thead>\n",
       "  <tbody>\n",
       "    <tr>\n",
       "      <th>2023-01-25 05:00:00+00:00</th>\n",
       "      <td>100.26</td>\n",
       "      <td>100.47</td>\n",
       "      <td>100.1</td>\n",
       "      <td>100.4</td>\n",
       "      <td>5431037</td>\n",
       "      <td>21570</td>\n",
       "      <td>100.309457</td>\n",
       "      <td>395.95</td>\n",
       "      <td>400.7</td>\n",
       "      <td>393.56</td>\n",
       "      <td>400.35</td>\n",
       "      <td>84826825</td>\n",
       "      <td>583807</td>\n",
       "      <td>397.858257</td>\n",
       "    </tr>\n",
       "  </tbody>\n",
       "</table>\n",
       "</div>"
      ],
      "text/plain": [
       "                              AGG                                             \\\n",
       "                             open    high    low  close   volume trade_count   \n",
       "timestamp                                                                      \n",
       "2023-01-25 05:00:00+00:00  100.26  100.47  100.1  100.4  5431037       21570   \n",
       "\n",
       "                                          SPY                         \\\n",
       "                                 vwap    open   high     low   close   \n",
       "timestamp                                                              \n",
       "2023-01-25 05:00:00+00:00  100.309457  395.95  400.7  393.56  400.35   \n",
       "\n",
       "                                                             \n",
       "                             volume trade_count        vwap  \n",
       "timestamp                                                    \n",
       "2023-01-25 05:00:00+00:00  84826825      583807  397.858257  "
      ]
     },
     "execution_count": 42,
     "metadata": {},
     "output_type": "execute_result"
    }
   ],
   "source": [
    "# Format current date as ISO format\n",
    "today = pd.Timestamp(\"2023-01-25\", tz=\"America/New_York\").isoformat()\n",
    "\n",
    "# Set the tickers\n",
    "tickers = [\"AGG\", \"SPY\"]\n",
    "\n",
    "# Set timeframe to \"1Day\" for Alpaca API\n",
    "timeframe = \"1Day\"\n",
    "\n",
    "# Get current closing prices for SPY and AGG\n",
    "df_portfolio = alpaca.get_bars(\n",
    "    tickers,\n",
    "    timeframe,\n",
    "    start = today,\n",
    "    end = today\n",
    ").df\n",
    "\n",
    "# Reorganize the DataFrame\n",
    "# Separate ticker data\n",
    "AGG = df_portfolio[df_portfolio['symbol']=='AGG'].drop('symbol', axis=1)\n",
    "SPY = df_portfolio[df_portfolio['symbol']=='SPY'].drop('symbol', axis=1)\n",
    "\n",
    "\n",
    "# Concatenate the ticker DataFrames\n",
    "df_portfolio = pd.concat([AGG, SPY], axis=1, keys=['AGG', 'SPY'])\n",
    "\n",
    "# Preview DataFrame\n",
    "df_portfolio"
   ]
  },
  {
   "cell_type": "code",
   "execution_count": 43,
   "metadata": {},
   "outputs": [
    {
     "name": "stdout",
     "output_type": "stream",
     "text": [
      "Current AGG closing price: $100.4\n",
      "Current SPY closing price: $400.35\n"
     ]
    }
   ],
   "source": [
    "# Pick AGG and SPY close prices\n",
    "agg_close_price = float(df_portfolio[\"AGG\"][\"close\"])\n",
    "spy_close_price = float(df_portfolio[\"SPY\"][\"close\"])\n",
    "\n",
    "# Print AGG and SPY close prices\n",
    "print(f\"Current AGG closing price: ${agg_close_price}\")\n",
    "print(f\"Current SPY closing price: ${spy_close_price}\")"
   ]
  },
  {
   "cell_type": "code",
   "execution_count": 44,
   "metadata": {},
   "outputs": [
    {
     "name": "stdout",
     "output_type": "stream",
     "text": [
      "The current value of your 50 SPY shares is $20017.50\n",
      "The current value of your 200 AGG shares is $20080.00\n"
     ]
    }
   ],
   "source": [
    "# Compute the current value of shares\n",
    "my_spy_value = spy_close_price * my_spy\n",
    "my_agg_value = agg_close_price * my_agg\n",
    "\n",
    "# Print current value of shares\n",
    "print(f\"The current value of your {my_spy} SPY shares is ${my_spy_value:0.2f}\")\n",
    "print(f\"The current value of your {my_agg} AGG shares is ${my_agg_value:0.2f}\")"
   ]
  },
  {
   "cell_type": "markdown",
   "metadata": {},
   "source": [
    "### Savings Health Analysis"
   ]
  },
  {
   "cell_type": "code",
   "execution_count": 57,
   "metadata": {},
   "outputs": [
    {
     "data": {
      "text/html": [
       "<div>\n",
       "<style scoped>\n",
       "    .dataframe tbody tr th:only-of-type {\n",
       "        vertical-align: middle;\n",
       "    }\n",
       "\n",
       "    .dataframe tbody tr th {\n",
       "        vertical-align: top;\n",
       "    }\n",
       "\n",
       "    .dataframe thead th {\n",
       "        text-align: right;\n",
       "    }\n",
       "</style>\n",
       "<table border=\"1\" class=\"dataframe\">\n",
       "  <thead>\n",
       "    <tr style=\"text-align: right;\">\n",
       "      <th></th>\n",
       "      <th>amount</th>\n",
       "    </tr>\n",
       "  </thead>\n",
       "  <tbody>\n",
       "    <tr>\n",
       "      <th>Shares</th>\n",
       "      <td>40097.500</td>\n",
       "    </tr>\n",
       "    <tr>\n",
       "      <th>Crypto</th>\n",
       "      <td>36098.094</td>\n",
       "    </tr>\n",
       "  </tbody>\n",
       "</table>\n",
       "</div>"
      ],
      "text/plain": [
       "           amount\n",
       "Shares  40097.500\n",
       "Crypto  36098.094"
      ]
     },
     "metadata": {},
     "output_type": "display_data"
    }
   ],
   "source": [
    "# Set monthly household income\n",
    "# YOUR CODE HERE!\n",
    "monthly_income = 12000\n",
    "\n",
    "# Consolidate financial assets data\n",
    "total_shares = my_spy_value + my_agg_value\n",
    "total_crypto = my_btc_value + my_eth_value\n",
    "\n",
    "shares_data = {\"amount\": [total_shares, total_crypto]}\n",
    "\n",
    "ind= ['Shares', 'Crypto'\n",
    "       ]\n",
    "# Create savings DataFrame\n",
    "df_savings = pd.DataFrame(shares_data, index=ind)\n",
    "\n",
    "# Display savings DataFrame\n",
    "display(df_savings)"
   ]
  },
  {
   "cell_type": "code",
   "execution_count": 68,
   "metadata": {},
   "outputs": [
    {
     "data": {
      "text/plain": [
       "array([<AxesSubplot:ylabel='amount'>], dtype=object)"
      ]
     },
     "execution_count": 68,
     "metadata": {},
     "output_type": "execute_result"
    },
    {
     "data": {
      "image/png": "[encoded data removed]",
      "text/plain": [
       "<Figure size 640x480 with 1 Axes>"
      ]
     },
     "metadata": {},
     "output_type": "display_data"
    }
   ],
   "source": [
    "# Plot savings pie chart\n",
    "df_savings.plot.pie(subplots=True)"
   ]
  },
  {
   "cell_type": "code",
   "execution_count": 70,
   "metadata": {},
   "outputs": [
    {
     "name": "stdout",
     "output_type": "stream",
     "text": [
      "Congragulations for having enough money in this fund.\n"
     ]
    }
   ],
   "source": [
    "# Set ideal emergency fund\n",
    "emergency_fund = monthly_income * 3\n",
    "# Calculate total amount of savings\n",
    "total_savings = total_shares + total_crypto\n",
    "# Validate saving health\n",
    "if total_savings > emergency_fund:\n",
    "    print(\"Congragulations for having enough money in this fund.\")\n",
    "if total_savings == emergency_fund:\n",
    "    print(\"Congragulations on reaching this financial goal.\")\n",
    "if total_savings < emergency_fund:\n",
    "    print(f\" You need {emergency_fund - total_savings} more dollars to reach your financial goal.\")"
   ]
  },
  {
   "cell_type": "markdown",
   "metadata": {},
   "source": [
    "## Part 2 - Retirement Planning\n",
    "\n",
    "### Monte Carlo Simulation"
   ]
  },
  {
   "cell_type": "code",
   "execution_count": 72,
   "metadata": {},
   "outputs": [],
   "source": [
    "# Set start and end dates of five years back from today.\n",
    "# Sample results may vary from the solution based on the time frame chosen\n",
    "start_date = pd.Timestamp('2018-01-25', tz='America/New_York').isoformat()\n",
    "end_date = pd.Timestamp('2023-01-25', tz='America/New_York').isoformat()"
   ]
  },
  {
   "cell_type": "code",
   "execution_count": 74,
   "metadata": {},
   "outputs": [
    {
     "data": {
      "text/html": [
       "<div>\n",
       "<style scoped>\n",
       "    .dataframe tbody tr th:only-of-type {\n",
       "        vertical-align: middle;\n",
       "    }\n",
       "\n",
       "    .dataframe tbody tr th {\n",
       "        vertical-align: top;\n",
       "    }\n",
       "\n",
       "    .dataframe thead tr th {\n",
       "        text-align: left;\n",
       "    }\n",
       "\n",
       "    .dataframe thead tr:last-of-type th {\n",
       "        text-align: right;\n",
       "    }\n",
       "</style>\n",
       "<table border=\"1\" class=\"dataframe\">\n",
       "  <thead>\n",
       "    <tr>\n",
       "      <th></th>\n",
       "      <th colspan=\"7\" halign=\"left\">SPY</th>\n",
       "      <th colspan=\"7\" halign=\"left\">AGG</th>\n",
       "    </tr>\n",
       "    <tr>\n",
       "      <th></th>\n",
       "      <th>open</th>\n",
       "      <th>high</th>\n",
       "      <th>low</th>\n",
       "      <th>close</th>\n",
       "      <th>volume</th>\n",
       "      <th>trade_count</th>\n",
       "      <th>vwap</th>\n",
       "      <th>open</th>\n",
       "      <th>high</th>\n",
       "      <th>low</th>\n",
       "      <th>close</th>\n",
       "      <th>volume</th>\n",
       "      <th>trade_count</th>\n",
       "      <th>vwap</th>\n",
       "    </tr>\n",
       "    <tr>\n",
       "      <th>timestamp</th>\n",
       "      <th></th>\n",
       "      <th></th>\n",
       "      <th></th>\n",
       "      <th></th>\n",
       "      <th></th>\n",
       "      <th></th>\n",
       "      <th></th>\n",
       "      <th></th>\n",
       "      <th></th>\n",
       "      <th></th>\n",
       "      <th></th>\n",
       "      <th></th>\n",
       "      <th></th>\n",
       "      <th></th>\n",
       "    </tr>\n",
       "  </thead>\n",
       "  <tbody>\n",
       "    <tr>\n",
       "      <th>2018-01-25 05:00:00+00:00</th>\n",
       "      <td>284.16</td>\n",
       "      <td>284.2700</td>\n",
       "      <td>282.405</td>\n",
       "      <td>283.30</td>\n",
       "      <td>85942448</td>\n",
       "      <td>267779</td>\n",
       "      <td>283.349445</td>\n",
       "      <td>108.26</td>\n",
       "      <td>108.57</td>\n",
       "      <td>108.19</td>\n",
       "      <td>108.57</td>\n",
       "      <td>9858098</td>\n",
       "      <td>19793</td>\n",
       "      <td>108.434750</td>\n",
       "    </tr>\n",
       "    <tr>\n",
       "      <th>2018-01-26 05:00:00+00:00</th>\n",
       "      <td>284.25</td>\n",
       "      <td>286.6285</td>\n",
       "      <td>283.960</td>\n",
       "      <td>286.56</td>\n",
       "      <td>111502740</td>\n",
       "      <td>267028</td>\n",
       "      <td>285.508779</td>\n",
       "      <td>108.51</td>\n",
       "      <td>108.51</td>\n",
       "      <td>108.27</td>\n",
       "      <td>108.37</td>\n",
       "      <td>3808163</td>\n",
       "      <td>13216</td>\n",
       "      <td>108.364405</td>\n",
       "    </tr>\n",
       "    <tr>\n",
       "      <th>2018-01-29 05:00:00+00:00</th>\n",
       "      <td>285.93</td>\n",
       "      <td>286.4300</td>\n",
       "      <td>284.500</td>\n",
       "      <td>284.64</td>\n",
       "      <td>90206637</td>\n",
       "      <td>286719</td>\n",
       "      <td>285.443701</td>\n",
       "      <td>108.14</td>\n",
       "      <td>108.25</td>\n",
       "      <td>108.02</td>\n",
       "      <td>108.18</td>\n",
       "      <td>3974898</td>\n",
       "      <td>17162</td>\n",
       "      <td>108.140754</td>\n",
       "    </tr>\n",
       "    <tr>\n",
       "      <th>2018-01-30 05:00:00+00:00</th>\n",
       "      <td>282.59</td>\n",
       "      <td>284.7360</td>\n",
       "      <td>281.220</td>\n",
       "      <td>281.63</td>\n",
       "      <td>132075557</td>\n",
       "      <td>427207</td>\n",
       "      <td>282.425628</td>\n",
       "      <td>108.12</td>\n",
       "      <td>108.12</td>\n",
       "      <td>107.92</td>\n",
       "      <td>108.01</td>\n",
       "      <td>3659538</td>\n",
       "      <td>14454</td>\n",
       "      <td>108.010293</td>\n",
       "    </tr>\n",
       "    <tr>\n",
       "      <th>2018-01-31 05:00:00+00:00</th>\n",
       "      <td>282.73</td>\n",
       "      <td>283.3000</td>\n",
       "      <td>280.680</td>\n",
       "      <td>281.91</td>\n",
       "      <td>118954475</td>\n",
       "      <td>363005</td>\n",
       "      <td>281.967347</td>\n",
       "      <td>108.20</td>\n",
       "      <td>108.21</td>\n",
       "      <td>107.88</td>\n",
       "      <td>108.10</td>\n",
       "      <td>8066895</td>\n",
       "      <td>29280</td>\n",
       "      <td>108.033072</td>\n",
       "    </tr>\n",
       "  </tbody>\n",
       "</table>\n",
       "</div>"
      ],
      "text/plain": [
       "                              SPY                                        \\\n",
       "                             open      high      low   close     volume   \n",
       "timestamp                                                                 \n",
       "2018-01-25 05:00:00+00:00  284.16  284.2700  282.405  283.30   85942448   \n",
       "2018-01-26 05:00:00+00:00  284.25  286.6285  283.960  286.56  111502740   \n",
       "2018-01-29 05:00:00+00:00  285.93  286.4300  284.500  284.64   90206637   \n",
       "2018-01-30 05:00:00+00:00  282.59  284.7360  281.220  281.63  132075557   \n",
       "2018-01-31 05:00:00+00:00  282.73  283.3000  280.680  281.91  118954475   \n",
       "\n",
       "                                                      AGG                  \\\n",
       "                          trade_count        vwap    open    high     low   \n",
       "timestamp                                                                   \n",
       "2018-01-25 05:00:00+00:00      267779  283.349445  108.26  108.57  108.19   \n",
       "2018-01-26 05:00:00+00:00      267028  285.508779  108.51  108.51  108.27   \n",
       "2018-01-29 05:00:00+00:00      286719  285.443701  108.14  108.25  108.02   \n",
       "2018-01-30 05:00:00+00:00      427207  282.425628  108.12  108.12  107.92   \n",
       "2018-01-31 05:00:00+00:00      363005  281.967347  108.20  108.21  107.88   \n",
       "\n",
       "                                                                    \n",
       "                            close   volume trade_count        vwap  \n",
       "timestamp                                                           \n",
       "2018-01-25 05:00:00+00:00  108.57  9858098       19793  108.434750  \n",
       "2018-01-26 05:00:00+00:00  108.37  3808163       13216  108.364405  \n",
       "2018-01-29 05:00:00+00:00  108.18  3974898       17162  108.140754  \n",
       "2018-01-30 05:00:00+00:00  108.01  3659538       14454  108.010293  \n",
       "2018-01-31 05:00:00+00:00  108.10  8066895       29280  108.033072  "
      ]
     },
     "execution_count": 74,
     "metadata": {},
     "output_type": "execute_result"
    }
   ],
   "source": [
    "# Get 5 years' worth of historical data for SPY and AGG\n",
    "df_stock_data = alpaca.get_bars(\n",
    "    tickers,\n",
    "    timeframe,\n",
    "    start=start_date,\n",
    "    end=end_date\n",
    ").df\n",
    "\n",
    "# Reorganize the DataFrame\n",
    "# Separate ticker data\n",
    "five_spy = df_stock_data[df_stock_data[\"symbol\"]==\"SPY\"].drop(\"symbol\", axis=1)\n",
    "five_agg = df_stock_data[df_stock_data[\"symbol\"]==\"AGG\"].drop(\"symbol\", axis=1)\n",
    "\n",
    "\n",
    "# Concatenate the ticker DataFrames\n",
    "df_stock_data = pd.concat([five_spy, five_agg], axis=1, keys=['SPY', 'AGG'])\n",
    "\n",
    "# Display sample data\n",
    "df_stock_data.head()"
   ]
  },
  {
   "cell_type": "code",
   "execution_count": 79,
   "metadata": {},
   "outputs": [],
   "source": [
    "# Configuring a Monte Carlo simulation to forecast 30 years cumulative returns\n",
    "MC_30 = MCSimulation(\n",
    "    portfolio_data = df_stock_data,\n",
    "    weights = [.4,.6],\n",
    "    num_simulation = 500,\n",
    "    num_trading_days = 252*30\n",
    ")\n"
   ]
  },
  {
   "cell_type": "code",
   "execution_count": 83,
   "metadata": {},
   "outputs": [
    {
     "data": {
      "text/html": [
       "<div>\n",
       "<style scoped>\n",
       "    .dataframe tbody tr th:only-of-type {\n",
       "        vertical-align: middle;\n",
       "    }\n",
       "\n",
       "    .dataframe tbody tr th {\n",
       "        vertical-align: top;\n",
       "    }\n",
       "\n",
       "    .dataframe thead tr th {\n",
       "        text-align: left;\n",
       "    }\n",
       "\n",
       "    .dataframe thead tr:last-of-type th {\n",
       "        text-align: right;\n",
       "    }\n",
       "</style>\n",
       "<table border=\"1\" class=\"dataframe\">\n",
       "  <thead>\n",
       "    <tr>\n",
       "      <th></th>\n",
       "      <th colspan=\"8\" halign=\"left\">SPY</th>\n",
       "      <th colspan=\"8\" halign=\"left\">AGG</th>\n",
       "    </tr>\n",
       "    <tr>\n",
       "      <th></th>\n",
       "      <th>open</th>\n",
       "      <th>high</th>\n",
       "      <th>low</th>\n",
       "      <th>close</th>\n",
       "      <th>volume</th>\n",
       "      <th>trade_count</th>\n",
       "      <th>vwap</th>\n",
       "      <th>daily_return</th>\n",
       "      <th>open</th>\n",
       "      <th>high</th>\n",
       "      <th>low</th>\n",
       "      <th>close</th>\n",
       "      <th>volume</th>\n",
       "      <th>trade_count</th>\n",
       "      <th>vwap</th>\n",
       "      <th>daily_return</th>\n",
       "    </tr>\n",
       "    <tr>\n",
       "      <th>timestamp</th>\n",
       "      <th></th>\n",
       "      <th></th>\n",
       "      <th></th>\n",
       "      <th></th>\n",
       "      <th></th>\n",
       "      <th></th>\n",
       "      <th></th>\n",
       "      <th></th>\n",
       "      <th></th>\n",
       "      <th></th>\n",
       "      <th></th>\n",
       "      <th></th>\n",
       "      <th></th>\n",
       "      <th></th>\n",
       "      <th></th>\n",
       "      <th></th>\n",
       "    </tr>\n",
       "  </thead>\n",
       "  <tbody>\n",
       "    <tr>\n",
       "      <th>2018-01-25 05:00:00+00:00</th>\n",
       "      <td>284.16</td>\n",
       "      <td>284.2700</td>\n",
       "      <td>282.405</td>\n",
       "      <td>283.30</td>\n",
       "      <td>85942448</td>\n",
       "      <td>267779</td>\n",
       "      <td>283.349445</td>\n",
       "      <td>NaN</td>\n",
       "      <td>108.26</td>\n",
       "      <td>108.57</td>\n",
       "      <td>108.19</td>\n",
       "      <td>108.57</td>\n",
       "      <td>9858098</td>\n",
       "      <td>19793</td>\n",
       "      <td>108.434750</td>\n",
       "      <td>NaN</td>\n",
       "    </tr>\n",
       "    <tr>\n",
       "      <th>2018-01-26 05:00:00+00:00</th>\n",
       "      <td>284.25</td>\n",
       "      <td>286.6285</td>\n",
       "      <td>283.960</td>\n",
       "      <td>286.56</td>\n",
       "      <td>111502740</td>\n",
       "      <td>267028</td>\n",
       "      <td>285.508779</td>\n",
       "      <td>0.011507</td>\n",
       "      <td>108.51</td>\n",
       "      <td>108.51</td>\n",
       "      <td>108.27</td>\n",
       "      <td>108.37</td>\n",
       "      <td>3808163</td>\n",
       "      <td>13216</td>\n",
       "      <td>108.364405</td>\n",
       "      <td>-0.001842</td>\n",
       "    </tr>\n",
       "    <tr>\n",
       "      <th>2018-01-29 05:00:00+00:00</th>\n",
       "      <td>285.93</td>\n",
       "      <td>286.4300</td>\n",
       "      <td>284.500</td>\n",
       "      <td>284.64</td>\n",
       "      <td>90206637</td>\n",
       "      <td>286719</td>\n",
       "      <td>285.443701</td>\n",
       "      <td>-0.006700</td>\n",
       "      <td>108.14</td>\n",
       "      <td>108.25</td>\n",
       "      <td>108.02</td>\n",
       "      <td>108.18</td>\n",
       "      <td>3974898</td>\n",
       "      <td>17162</td>\n",
       "      <td>108.140754</td>\n",
       "      <td>-0.001753</td>\n",
       "    </tr>\n",
       "    <tr>\n",
       "      <th>2018-01-30 05:00:00+00:00</th>\n",
       "      <td>282.59</td>\n",
       "      <td>284.7360</td>\n",
       "      <td>281.220</td>\n",
       "      <td>281.63</td>\n",
       "      <td>132075557</td>\n",
       "      <td>427207</td>\n",
       "      <td>282.425628</td>\n",
       "      <td>-0.010575</td>\n",
       "      <td>108.12</td>\n",
       "      <td>108.12</td>\n",
       "      <td>107.92</td>\n",
       "      <td>108.01</td>\n",
       "      <td>3659538</td>\n",
       "      <td>14454</td>\n",
       "      <td>108.010293</td>\n",
       "      <td>-0.001571</td>\n",
       "    </tr>\n",
       "    <tr>\n",
       "      <th>2018-01-31 05:00:00+00:00</th>\n",
       "      <td>282.73</td>\n",
       "      <td>283.3000</td>\n",
       "      <td>280.680</td>\n",
       "      <td>281.91</td>\n",
       "      <td>118954475</td>\n",
       "      <td>363005</td>\n",
       "      <td>281.967347</td>\n",
       "      <td>0.000994</td>\n",
       "      <td>108.20</td>\n",
       "      <td>108.21</td>\n",
       "      <td>107.88</td>\n",
       "      <td>108.10</td>\n",
       "      <td>8066895</td>\n",
       "      <td>29280</td>\n",
       "      <td>108.033072</td>\n",
       "      <td>0.000833</td>\n",
       "    </tr>\n",
       "  </tbody>\n",
       "</table>\n",
       "</div>"
      ],
      "text/plain": [
       "                              SPY                                        \\\n",
       "                             open      high      low   close     volume   \n",
       "timestamp                                                                 \n",
       "2018-01-25 05:00:00+00:00  284.16  284.2700  282.405  283.30   85942448   \n",
       "2018-01-26 05:00:00+00:00  284.25  286.6285  283.960  286.56  111502740   \n",
       "2018-01-29 05:00:00+00:00  285.93  286.4300  284.500  284.64   90206637   \n",
       "2018-01-30 05:00:00+00:00  282.59  284.7360  281.220  281.63  132075557   \n",
       "2018-01-31 05:00:00+00:00  282.73  283.3000  280.680  281.91  118954475   \n",
       "\n",
       "                                                                   AGG  \\\n",
       "                          trade_count        vwap daily_return    open   \n",
       "timestamp                                                                \n",
       "2018-01-25 05:00:00+00:00      267779  283.349445          NaN  108.26   \n",
       "2018-01-26 05:00:00+00:00      267028  285.508779     0.011507  108.51   \n",
       "2018-01-29 05:00:00+00:00      286719  285.443701    -0.006700  108.14   \n",
       "2018-01-30 05:00:00+00:00      427207  282.425628    -0.010575  108.12   \n",
       "2018-01-31 05:00:00+00:00      363005  281.967347     0.000994  108.20   \n",
       "\n",
       "                                                                        \\\n",
       "                             high     low   close   volume trade_count   \n",
       "timestamp                                                                \n",
       "2018-01-25 05:00:00+00:00  108.57  108.19  108.57  9858098       19793   \n",
       "2018-01-26 05:00:00+00:00  108.51  108.27  108.37  3808163       13216   \n",
       "2018-01-29 05:00:00+00:00  108.25  108.02  108.18  3974898       17162   \n",
       "2018-01-30 05:00:00+00:00  108.12  107.92  108.01  3659538       14454   \n",
       "2018-01-31 05:00:00+00:00  108.21  107.88  108.10  8066895       29280   \n",
       "\n",
       "                                                    \n",
       "                                 vwap daily_return  \n",
       "timestamp                                           \n",
       "2018-01-25 05:00:00+00:00  108.434750          NaN  \n",
       "2018-01-26 05:00:00+00:00  108.364405    -0.001842  \n",
       "2018-01-29 05:00:00+00:00  108.140754    -0.001753  \n",
       "2018-01-30 05:00:00+00:00  108.010293    -0.001571  \n",
       "2018-01-31 05:00:00+00:00  108.033072     0.000833  "
      ]
     },
     "execution_count": 83,
     "metadata": {},
     "output_type": "execute_result"
    }
   ],
   "source": [
    "# Printing the simulation input data\n",
    "MC_30.portfolio_data.head()"
   ]
  },
  {
   "cell_type": "code",
   "execution_count": null,
   "metadata": {},
   "outputs": [],
   "source": [
    "# Running a Monte Carlo simulation to forecast 30 years cumulative returns\n",
    "MC_30.calc_cumulative_return()"
   ]
  },
  {
   "cell_type": "code",
   "execution_count": 81,
   "metadata": {},
   "outputs": [
    {
     "data": {
      "image/png": "[encoded data removed]",
      "text/plain": [
       "<Figure size 640x480 with 1 Axes>"
      ]
     },
     "metadata": {},
     "output_type": "display_data"
    }
   ],
   "source": [
    "# Plot simulation outcomes\n",
    "line_plot = MC_30.plot_simulation()"
   ]
  },
  {
   "cell_type": "code",
   "execution_count": 82,
   "metadata": {},
   "outputs": [
    {
     "data": {
      "image/png": "[encoded data removed]",
      "text/plain": [
       "<Figure size 640x480 with 1 Axes>"
      ]
     },
     "metadata": {},
     "output_type": "display_data"
    }
   ],
   "source": [
    "# Plot probability distribution and confidence intervals\n",
    "dist_plot = MC_30.plot_distribution()"
   ]
  },
  {
   "cell_type": "markdown",
   "metadata": {},
   "source": [
    "### Retirement Analysis"
   ]
  },
  {
   "cell_type": "code",
   "execution_count": 84,
   "metadata": {},
   "outputs": [
    {
     "name": "stdout",
     "output_type": "stream",
     "text": [
      "count           500.000000\n",
      "mean              2.321118\n",
      "std               1.211966\n",
      "min               0.397190\n",
      "25%               1.448673\n",
      "50%               2.021564\n",
      "75%               2.917804\n",
      "max               8.523576\n",
      "95% CI Lower      0.738844\n",
      "95% CI Upper      5.297059\n",
      "Name: 7560, dtype: float64\n"
     ]
    }
   ],
   "source": [
    "# Fetch summary statistics from the Monte Carlo simulation results\n",
    "mc_stats = MC_30.summarize_cumulative_return()\n",
    "\n",
    "# Print summary statistics\n",
    "print(mc_stats)"
   ]
  },
  {
   "cell_type": "markdown",
   "metadata": {},
   "source": [
    "### Calculate the expected portfolio return at the `95%` lower and upper confidence intervals based on a `$20,000` initial investment."
   ]
  },
  {
   "cell_type": "code",
   "execution_count": 85,
   "metadata": {},
   "outputs": [
    {
     "name": "stdout",
     "output_type": "stream",
     "text": [
      "There is a 95% chance that an initial investment of $20000 in the portfolio over the next 30 years will end within in the range of $14776.89 and $105941.17\n"
     ]
    }
   ],
   "source": [
    "# Set initial investment\n",
    "initial_investment = 20000\n",
    "\n",
    "# Use the lower and upper `95%` confidence intervals to calculate the range of the possible outcomes of our $20,000\n",
    "ci_lower = round(mc_stats[8]*20000,2)\n",
    "ci_upper = round(mc_stats[9]*20000,2)\n",
    "\n",
    "# Print results\n",
    "print(f\"There is a 95% chance that an initial investment of ${initial_investment} in the portfolio\"\n",
    "      f\" over the next 30 years will end within in the range of\"\n",
    "      f\" ${ci_lower} and ${ci_upper}\")"
   ]
  },
  {
   "cell_type": "markdown",
   "metadata": {},
   "source": [
    "### Calculate the expected portfolio return at the `95%` lower and upper confidence intervals based on a `50%` increase in the initial investment."
   ]
  },
  {
   "cell_type": "code",
   "execution_count": 86,
   "metadata": {},
   "outputs": [
    {
     "name": "stdout",
     "output_type": "stream",
     "text": [
      "There is a 95% chance that an initial investment of $30000.0 in the portfolio over the next 30 years will end within in the range of $22165.33 and $158911.76\n"
     ]
    }
   ],
   "source": [
    "# Set initial investment\n",
    "initial_investment = 20000 * 1.5\n",
    "\n",
    "# Use the lower and upper `95%` confidence intervals to calculate the range of the possible outcomes of our $30,000\n",
    "ci_lower = round(mc_stats[8]*20000*1.5,2)\n",
    "ci_upper = round(mc_stats[9]*20000*1.5,2)\n",
    "\n",
    "# Print results\n",
    "print(f\"There is a 95% chance that an initial investment of ${initial_investment} in the portfolio\"\n",
    "      f\" over the next 30 years will end within in the range of\"\n",
    "      f\" ${ci_lower} and ${ci_upper}\")"
   ]
  },
  {
   "cell_type": "markdown",
   "metadata": {},
   "source": [
    "## Optional Challenge - Early Retirement\n",
    "\n",
    "\n",
    "### Five Years Retirement Option"
   ]
  },
  {
   "cell_type": "code",
   "execution_count": null,
   "metadata": {},
   "outputs": [],
   "source": [
    "# Configuring a Monte Carlo simulation to forecast 5 years cumulative returns\n",
    "# YOUR CODE HERE!"
   ]
  },
  {
   "cell_type": "code",
   "execution_count": null,
   "metadata": {},
   "outputs": [],
   "source": [
    "# Running a Monte Carlo simulation to forecast 5 years cumulative returns\n",
    "# YOUR CODE HERE!"
   ]
  },
  {
   "cell_type": "code",
   "execution_count": null,
   "metadata": {},
   "outputs": [],
   "source": [
    "# Plot simulation outcomes\n",
    "# YOUR CODE HERE!"
   ]
  },
  {
   "cell_type": "code",
   "execution_count": null,
   "metadata": {},
   "outputs": [],
   "source": [
    "# Plot probability distribution and confidence intervals\n",
    "# YOUR CODE HERE!"
   ]
  },
  {
   "cell_type": "code",
   "execution_count": null,
   "metadata": {},
   "outputs": [],
   "source": [
    "# Fetch summary statistics from the Monte Carlo simulation results\n",
    "# YOUR CODE HERE!\n",
    "\n",
    "# Print summary statistics\n",
    "# YOUR CODE HERE!"
   ]
  },
  {
   "cell_type": "code",
   "execution_count": null,
   "metadata": {},
   "outputs": [],
   "source": [
    "# Set initial investment\n",
    "# YOUR CODE HERE!\n",
    "\n",
    "# Use the lower and upper `95%` confidence intervals to calculate the range of the possible outcomes of our $60,000\n",
    "# YOUR CODE HERE!\n",
    "\n",
    "# Print results\n",
    "print(f\"There is a 95% chance that an initial investment of ${initial_investment} in the portfolio\"\n",
    "      f\" over the next 5 years will end within in the range of\"\n",
    "      f\" ${ci_lower_five} and ${ci_upper_five}\")"
   ]
  },
  {
   "cell_type": "markdown",
   "metadata": {},
   "source": [
    "### Ten Years Retirement Option"
   ]
  },
  {
   "cell_type": "code",
   "execution_count": null,
   "metadata": {},
   "outputs": [],
   "source": [
    "# Configuring a Monte Carlo simulation to forecast 10 years cumulative returns\n",
    "# YOUR CODE HERE!"
   ]
  },
  {
   "cell_type": "code",
   "execution_count": null,
   "metadata": {},
   "outputs": [],
   "source": [
    "# Running a Monte Carlo simulation to forecast 10 years cumulative returns\n",
    "# YOUR CODE HERE!"
   ]
  },
  {
   "cell_type": "code",
   "execution_count": null,
   "metadata": {},
   "outputs": [],
   "source": [
    "# Plot simulation outcomes\n",
    "# YOUR CODE HERE!"
   ]
  },
  {
   "cell_type": "code",
   "execution_count": null,
   "metadata": {},
   "outputs": [],
   "source": [
    "# Plot probability distribution and confidence intervals\n",
    "# YOUR CODE HERE!"
   ]
  },
  {
   "cell_type": "code",
   "execution_count": null,
   "metadata": {},
   "outputs": [],
   "source": [
    "# Fetch summary statistics from the Monte Carlo simulation results\n",
    "# YOUR CODE HERE!\n",
    "\n",
    "# Print summary statistics\n",
    "# YOUR CODE HERE!"
   ]
  },
  {
   "cell_type": "code",
   "execution_count": null,
   "metadata": {},
   "outputs": [],
   "source": [
    "# Set initial investment\n",
    "# YOUR CODE HERE!\n",
    "\n",
    "# Use the lower and upper `95%` confidence intervals to calculate the range of the possible outcomes of our $60,000\n",
    "# YOUR CODE HERE!\n",
    "\n",
    "# Print results\n",
    "print(f\"There is a 95% chance that an initial investment of ${initial_investment} in the portfolio\"\n",
    "      f\" over the next 10 years will end within in the range of\"\n",
    "      f\" ${ci_lower_ten} and ${ci_upper_ten}\")"
   ]
  },
  {
   "cell_type": "code",
   "execution_count": null,
   "metadata": {},
   "outputs": [],
   "source": []
  }
 ],
 "metadata": {
  "kernelspec": {
   "display_name": "Python 3 (ipykernel)",
   "language": "python",
   "name": "python3"
  },
  "language_info": {
   "codemirror_mode": {
    "name": "ipython",
    "version": 3
   },
   "file_extension": ".py",
   "mimetype": "text/x-python",
   "name": "python",
   "nbconvert_exporter": "python",
   "pygments_lexer": "ipython3",
   "version": "3.7.13"
  },
  "nteract": {
   "version": "0.28.0"
  }
 },
 "nbformat": 4,
 "nbformat_minor": 4
}
